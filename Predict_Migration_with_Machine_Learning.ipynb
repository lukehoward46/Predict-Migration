{
  "nbformat": 4,
  "nbformat_minor": 0,
  "metadata": {
    "colab": {
      "provenance": []
    },
    "kernelspec": {
      "name": "python3",
      "display_name": "Python 3"
    },
    "language_info": {
      "name": "python"
    }
  },
  "cells": [
    {
      "cell_type": "code",
      "execution_count": null,
      "metadata": {
        "id": "qmsGmd4Zvc7V"
      },
      "outputs": [],
      "source": [
        "import pandas as pd\n",
        "from sklearn.cross_validation import train_test_split\n",
        "from sklearn import svm\n",
        "import seaborn as sns\n",
        "import matplotlib.pyplot as plt\n",
        "from sklearn.metrics import mean_squared_error\n",
        "import numpy as np\n",
        "from sklearn.naive_bayes import GaussianNB"
      ]
    },
    {
      "cell_type": "code",
      "source": [
        "data = pd.read_csv('migration_nz.csv')\n",
        "data.head(10)"
      ],
      "metadata": {
        "id": "jkgJaBj0vmTx"
      },
      "execution_count": null,
      "outputs": []
    },
    {
      "cell_type": "code",
      "source": [
        "data['Measure'].unique()"
      ],
      "metadata": {
        "id": "sPXPpsyyvn9G"
      },
      "execution_count": null,
      "outputs": []
    },
    {
      "cell_type": "code",
      "source": [
        "data['Measure'].replace(\"Arrivals\",0,inplace=True)\n",
        "data['Measure'].replace(\"Departures\",1,inplace=True)\n",
        "data['Measure'].replace(\"Net\",2,inplace=True)"
      ],
      "metadata": {
        "id": "iLsrcJ5Bvp95"
      },
      "execution_count": null,
      "outputs": []
    },
    {
      "cell_type": "code",
      "source": [
        "data['Measure'].unique()"
      ],
      "metadata": {
        "id": "sXWNCG21vrXX"
      },
      "execution_count": null,
      "outputs": []
    },
    {
      "cell_type": "code",
      "source": [
        "data['Country'].unique()"
      ],
      "metadata": {
        "id": "NUtdl-gCvtFJ"
      },
      "execution_count": null,
      "outputs": []
    },
    {
      "cell_type": "code",
      "source": [
        "data['CountryID'] = pd.factorize(data.Country)[0]\n",
        "data['CitID'] = pd.factorize(data.Citizenship)[0]"
      ],
      "metadata": {
        "id": "JnzWRyQJvuyo"
      },
      "execution_count": null,
      "outputs": []
    },
    {
      "cell_type": "code",
      "source": [
        "data['CountryID'].unique()"
      ],
      "metadata": {
        "id": "IMnPqhvkvwpn"
      },
      "execution_count": null,
      "outputs": []
    },
    {
      "cell_type": "code",
      "source": [
        "data.isnull().sum()"
      ],
      "metadata": {
        "id": "Fgv4xwlovyDI"
      },
      "execution_count": null,
      "outputs": []
    },
    {
      "cell_type": "code",
      "source": [
        "data[\"Value\"].fillna(data[\"Value\"].median(),inplace=True)"
      ],
      "metadata": {
        "id": "m6yDMM6hv0bv"
      },
      "execution_count": null,
      "outputs": []
    },
    {
      "cell_type": "code",
      "source": [
        "data.isnull().sum()"
      ],
      "metadata": {
        "id": "sUT4oBWav2SQ"
      },
      "execution_count": null,
      "outputs": []
    },
    {
      "cell_type": "code",
      "source": [
        "data.drop('Country', axis=1, inplace=True)\n",
        "data.drop('Citizenship', axis=1, inplace=True)\n",
        "from sklearn.cross_validation import train_test_split\n",
        "X= data[['CountryID','Measure','Year','CitID']].as_matrix()\n",
        "Y= data['Value'].as_matrix()\n",
        "X_train, X_test, y_train, y_test = train_test_split(\n",
        "  X, Y, test_size=0.3, random_state=9)"
      ],
      "metadata": {
        "id": "tPc9c1AAv5cX"
      },
      "execution_count": null,
      "outputs": []
    },
    {
      "cell_type": "code",
      "source": [
        "from sklearn.ensemble import RandomForestRegressor\n",
        "rf = RandomForestRegressor(n_estimators=70,max_features = 3,max_depth=5,n_jobs=-1)\n",
        "rf.fit(X_train ,y_train)\n",
        "rf.score(X_test, y_test)"
      ],
      "metadata": {
        "id": "LXYRWLlMv7gm"
      },
      "execution_count": null,
      "outputs": []
    },
    {
      "cell_type": "code",
      "source": [
        "X = data[['CountryID','Measure','Year','CitID']]\n",
        "Y = data['Value']\n",
        "X_train, X_test, y_train, y_test = train_test_split(\n",
        "  X, Y, test_size=0.3, random_state=9)\n",
        "grouped = data.groupby(['Year']).aggregate({'Value' : 'sum'})\n",
        "\n",
        "\n",
        "#Growth of migration to New-Zeland by year\n",
        "grouped.plot(kind='line');plt.axhline(0, color='g')\n",
        "sns.plt.show()"
      ],
      "metadata": {
        "id": "jSt5SRrtv73H"
      },
      "execution_count": null,
      "outputs": []
    },
    {
      "cell_type": "code",
      "source": [
        "grouped.plot(kind='bar');plt.axhline(0, color='g')\n",
        "sns.plt.show()"
      ],
      "metadata": {
        "id": "omQD9W7bv-cf"
      },
      "execution_count": null,
      "outputs": []
    },
    {
      "cell_type": "code",
      "source": [
        "import seaborn as sns\n",
        "corr = data.corr()\n",
        "sns.heatmap(corr,\n",
        "            xticklabels=corr.columns.values,\n",
        "            yticklabels=corr.columns.values)\n",
        "sns.plt.show()"
      ],
      "metadata": {
        "id": "EH_5biiTv_vm"
      },
      "execution_count": null,
      "outputs": []
    }
  ]
}